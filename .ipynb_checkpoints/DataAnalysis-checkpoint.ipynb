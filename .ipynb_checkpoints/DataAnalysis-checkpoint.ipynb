{
 "cells": [
  {
   "cell_type": "code",
   "execution_count": 1,
   "metadata": {},
   "outputs": [
    {
     "name": "stdout",
     "output_type": "stream",
     "text": [
      "((10, 1591247786, '0o3nKZSKB4AJMcdO', 'science', 'algorithm', '0x0000000000000000000000000000000000000000', '0x7161a4eCE5dD841756ee38cBEa7da055F29302c9', 0), (10, 1591247968, 'AfQp9c2UkskMjHZG', 'science', 'algorithm', '0x0000000000000000000000000000000000000000', '0x7161a4eCE5dD841756ee38cBEa7da055F29302c9', 0), (10, 1591247685, 'GODaK5wuSE2QdLZ7', 'science', 'algorithm', '0x78658C9AaD8523BB283029C43135CF87339ADC21', '0x7161a4eCE5dD841756ee38cBEa7da055F29302c9', 1), (100, 1591247247, 'i7IiqQh55XY4zvjB', 'science', 'AI', '0x0000000000000000000000000000000000000000', '0x7161a4eCE5dD841756ee38cBEa7da055F29302c9', 0), (10, 1591247830, 'rDf2yVZh9RzWnWw8', 'science', 'algorithm', '0x0000000000000000000000000000000000000000', '0x7161a4eCE5dD841756ee38cBEa7da055F29302c9', 0), (89, 1591333314, 'UWwwDLeVAViwifTG', 'Art', 'monariza', '0x0000000000000000000000000000000000000000', '0x7161a4eCE5dD841756ee38cBEa7da055F29302c9', 0), (10, 1591247739, 'xmFYtVfgXDuuB8Sp', 'science', 'algorithm', '0x0000000000000000000000000000000000000000', '0x7161a4eCE5dD841756ee38cBEa7da055F29302c9', 0))\n"
     ]
    }
   ],
   "source": [
    "import pymysql\n",
    "import pprint\n",
    "db = pymysql.connect(\n",
    "                host=\"localhost\",\n",
    "                port=3306,\n",
    "                user=\"root\",\n",
    "                passwd=\"pass\",\n",
    "                db=\"keeper\",\n",
    "                charset=\"utf8\",\n",
    "            )\n",
    "\n",
    "\n",
    "try:\n",
    "    sql = (\n",
    "        \"\"\"\n",
    "        select * from datainfo\n",
    "        \"\"\"\n",
    "        #%()\n",
    "    )\n",
    "    cursor = db.cursor()\n",
    "    cursor.execute(sql)\n",
    "    result = cursor.fetchall()\n",
    "    pprint.pprint(result)\n",
    "except Exception:\n",
    "    print(\"error\")\n",
    "    \n",
    "db.close();"
   ]
  },
  {
   "cell_type": "code",
   "execution_count": null,
   "metadata": {},
   "outputs": [],
   "source": []
  }
 ],
 "metadata": {
  "kernelspec": {
   "display_name": "dpenv",
   "language": "python",
   "name": "dpenv"
  },
  "language_info": {
   "codemirror_mode": {
    "name": "ipython",
    "version": 3
   },
   "file_extension": ".py",
   "mimetype": "text/x-python",
   "name": "python",
   "nbconvert_exporter": "python",
   "pygments_lexer": "ipython3",
   "version": "3.6.10"
  }
 },
 "nbformat": 4,
 "nbformat_minor": 4
}
